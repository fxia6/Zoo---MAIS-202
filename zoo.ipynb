{
 "cells": [
  {
   "cell_type": "code",
   "execution_count": 2,
   "metadata": {},
   "outputs": [
    {
     "name": "stdout",
     "output_type": "stream",
     "text": [
      "     hair  feathers  eggs  milk  airborne  aquatic  predator  toothed  \\\n",
      "0       1         0     0     1         0        0         1        1   \n",
      "1       1         0     0     1         0        0         0        1   \n",
      "2       0         0     1     0         0        1         1        1   \n",
      "3       1         0     0     1         0        0         1        1   \n",
      "4       1         0     0     1         0        0         1        1   \n",
      "..    ...       ...   ...   ...       ...      ...       ...      ...   \n",
      "209     0         0     1     0         1        0         1        0   \n",
      "210     0         0     1     0         0        0         0        0   \n",
      "211     0         0     1     0         0        0         0        0   \n",
      "212     1         0     1     0         0        0         1        0   \n",
      "213     1         0     1     0         0        0         1        0   \n",
      "\n",
      "     backbone  breathes  venomous  fins  legs  tail  domestic  catsize  \n",
      "0           1         1         0     0     4     0         0        1  \n",
      "1           1         1         0     0     4     1         0        1  \n",
      "2           1         0         0     1     0     1         0        0  \n",
      "3           1         1         0     0     4     0         0        1  \n",
      "4           1         1         0     0     4     1         0        1  \n",
      "..        ...       ...       ...   ...   ...   ...       ...      ...  \n",
      "209         0         1         1     0     6     0         0        0  \n",
      "210         0         1         0     0     6     0         0        0  \n",
      "211         0         1         0     0     0     0         0        0  \n",
      "212         0         1         1     0     8     0         0        0  \n",
      "213         0         1         1     0     6     0         0        0  \n",
      "\n",
      "[214 rows x 16 columns]\n"
     ]
    }
   ],
   "source": [
    "import pandas as pd\n",
    "import numpy as np\n",
    "from sklearn.ensemble import RandomForestClassifier\n",
    "from sklearn.model_selection import RandomizedSearchCV\n",
    "from sklearn.model_selection import GridSearchCV\n",
    "\n",
    "# read data from csv files\n",
    "zoo_data = pd.read_csv('zoo.csv')\n",
    "class_data = pd.read_csv('class.csv')\n",
    "\n",
    "### data preprocessing\n",
    "# remove the first column 'animal_name' and exclude the label column to obtain X\n",
    "X = zoo_data.iloc[:,1:17]\n",
    "# extract the label column to obtain y\n",
    "y = zoo_data.iloc[:,17]\n",
    "\n",
    "# fill up missing values, if any\n",
    "# We will assume any missing values take on value 0, which is equivalent to False in boolean\n",
    "for feature_name in X.columns:\n",
    "    for i in range(len(X[feature_name].isnull())):\n",
    "        if X[feature_name].isnull()[i] == True:\n",
    "            X[feature_name][i] = 0\n",
    "\n",
    "# take a look at what our preprocessed data looks like\n",
    "print(X)\n",
    "###\n"
   ]
  },
  {
   "cell_type": "code",
   "execution_count": 3,
   "metadata": {},
   "outputs": [],
   "source": [
    "### building a ML model\n",
    "# training/validation/test splits\n",
    "X_train = X.iloc[:170]\n",
    "X_validation = X.iloc[170:192]\n",
    "X_test = X.iloc[192:214]\n",
    "\n",
    "y_train = y.iloc[:170]\n",
    "y_validation = y.iloc[170:192]\n",
    "y_test = y.iloc[192:214]"
   ]
  },
  {
   "cell_type": "code",
   "execution_count": 4,
   "metadata": {},
   "outputs": [
    {
     "name": "stdout",
     "output_type": "stream",
     "text": [
      "1.0\n",
      "0.8636363636363636\n",
      "0.8636363636363636\n"
     ]
    }
   ],
   "source": [
    "# a model with all default hyperparameters\n",
    "rdf = RandomForestClassifier()\n",
    "rdf.fit(X_train,y_train)\n",
    "\n",
    "print(rdf.score(X_train,y_train))\n",
    "print(rdf.score(X_validation,y_validation))\n",
    "print(rdf.score(X_test,y_test))"
   ]
  },
  {
   "cell_type": "code",
   "execution_count": 5,
   "metadata": {},
   "outputs": [
    {
     "data": {
      "text/plain": [
       "RandomizedSearchCV(cv=None, error_score=nan,\n",
       "                   estimator=RandomForestClassifier(bootstrap=True,\n",
       "                                                    ccp_alpha=0.0,\n",
       "                                                    class_weight=None,\n",
       "                                                    criterion='gini',\n",
       "                                                    max_depth=None,\n",
       "                                                    max_features='auto',\n",
       "                                                    max_leaf_nodes=None,\n",
       "                                                    max_samples=None,\n",
       "                                                    min_impurity_decrease=0.0,\n",
       "                                                    min_impurity_split=None,\n",
       "                                                    min_samples_leaf=1,\n",
       "                                                    min_samples_split=2,\n",
       "                                                    min_weight_fraction_leaf=0.0,\n",
       "                                                    n_estimators=100,\n",
       "                                                    n_j...\n",
       "                   param_distributions={'bootstrap': [True, False],\n",
       "                                        'max_depth': [5, 5, 5, 5, 5, 6, 6, 6, 6,\n",
       "                                                      7, 7, 7, 7, 7, 8, 8, 8, 8,\n",
       "                                                      9, 9, 9, 9, 9, 10, 10, 10,\n",
       "                                                      10, 11, 11, 11, ...],\n",
       "                                        'max_features': ['auto', 'None'],\n",
       "                                        'min_samples_leaf': [1, 2, 5, 10, 20],\n",
       "                                        'min_samples_split': [2, 5, 10, 20],\n",
       "                                        'n_estimators': [100, 311, 522, 733,\n",
       "                                                         944, 1155, 1366, 1577,\n",
       "                                                         1788, 2000]},\n",
       "                   pre_dispatch='2*n_jobs', random_state=None, refit=True,\n",
       "                   return_train_score=False, scoring=None, verbose=0)"
      ]
     },
     "execution_count": 5,
     "metadata": {},
     "output_type": "execute_result"
    }
   ],
   "source": [
    "### Tuning Hyperparameters\n",
    "# Randomized Search Cross Validation\n",
    "n_estimators = [int(x) for x in np.linspace(start = 100, stop = 2000, num = 10)]\n",
    "max_features = ['auto','None']\n",
    "max_depth = [int(x) for x in np.linspace(start=5,stop=16)]\n",
    "min_samples_split = [2,5,10,20]\n",
    "min_samples_leaf = [1,2,5,10,20]\n",
    "bootstrap = [True,False]\n",
    "random_grid = {'n_estimators': n_estimators,\n",
    "               'max_features': max_features,\n",
    "               'max_depth': max_depth,\n",
    "               'min_samples_split': min_samples_split,\n",
    "               'min_samples_leaf': min_samples_leaf,\n",
    "               'bootstrap': bootstrap}\n",
    "\n",
    "rdf_random = RandomizedSearchCV(estimator=rdf, param_distributions=random_grid, n_iter=100, n_jobs=-1)\n",
    "rdf_random.fit(X_train,y_train)"
   ]
  },
  {
   "cell_type": "code",
   "execution_count": 6,
   "metadata": {},
   "outputs": [
    {
     "data": {
      "text/plain": [
       "{'n_estimators': 1366,\n",
       " 'min_samples_split': 10,\n",
       " 'min_samples_leaf': 2,\n",
       " 'max_features': 'auto',\n",
       " 'max_depth': 7,\n",
       " 'bootstrap': True}"
      ]
     },
     "execution_count": 6,
     "metadata": {},
     "output_type": "execute_result"
    }
   ],
   "source": [
    "rdf_random.best_params_"
   ]
  },
  {
   "cell_type": "code",
   "execution_count": 7,
   "metadata": {},
   "outputs": [
    {
     "data": {
      "text/plain": [
       "GridSearchCV(cv=None, error_score=nan,\n",
       "             estimator=RandomForestClassifier(bootstrap=True, ccp_alpha=0.0,\n",
       "                                              class_weight=None,\n",
       "                                              criterion='gini', max_depth=None,\n",
       "                                              max_features='auto',\n",
       "                                              max_leaf_nodes=None,\n",
       "                                              max_samples=None,\n",
       "                                              min_impurity_decrease=0.0,\n",
       "                                              min_impurity_split=None,\n",
       "                                              min_samples_leaf=1,\n",
       "                                              min_samples_split=2,\n",
       "                                              min_weight_fraction_leaf=0.0,\n",
       "                                              n_estimators=100, n_jobs=None,\n",
       "                                              oob_score=False,\n",
       "                                              random_state=None, verbose=0,\n",
       "                                              warm_start=False),\n",
       "             iid='deprecated', n_jobs=-1,\n",
       "             param_grid={'bootstrap': [True], 'max_depth': [4, 6, 8, 10],\n",
       "                         'max_features': ['auto'], 'min_samples_leaf': [1, 2],\n",
       "                         'min_samples_split': [2, 5],\n",
       "                         'n_estimators': [1200, 1400]},\n",
       "             pre_dispatch='2*n_jobs', refit=True, return_train_score=False,\n",
       "             scoring=None, verbose=0)"
      ]
     },
     "execution_count": 7,
     "metadata": {},
     "output_type": "execute_result"
    }
   ],
   "source": [
    "# Grid Search Cross Validation\n",
    "param_grid = {\n",
    "    'bootstrap': [True],\n",
    "    'max_depth': [ 4, 6, 8, 10 ],\n",
    "    'max_features': ['auto'],\n",
    "    'min_samples_leaf': [1, 2],\n",
    "    'min_samples_split': [2, 5],\n",
    "    'n_estimators': [1200, 1400]\n",
    "}\n",
    "\n",
    "grid_search = GridSearchCV(estimator = rdf, param_grid = param_grid, \n",
    "                          n_jobs = -1)\n",
    "grid_search.fit(X_train,y_train)"
   ]
  },
  {
   "cell_type": "code",
   "execution_count": 8,
   "metadata": {},
   "outputs": [
    {
     "data": {
      "text/plain": [
       "{'bootstrap': True,\n",
       " 'max_depth': 4,\n",
       " 'max_features': 'auto',\n",
       " 'min_samples_leaf': 1,\n",
       " 'min_samples_split': 2,\n",
       " 'n_estimators': 1200}"
      ]
     },
     "execution_count": 8,
     "metadata": {},
     "output_type": "execute_result"
    }
   ],
   "source": [
    "grid_search.best_params_"
   ]
  },
  {
   "cell_type": "code",
   "execution_count": 9,
   "metadata": {},
   "outputs": [
    {
     "name": "stdout",
     "output_type": "stream",
     "text": [
      "0.9764705882352941\n",
      "0.9090909090909091\n",
      "0.8636363636363636\n"
     ]
    }
   ],
   "source": [
    "rdf = RandomForestClassifier(n_estimators = 1200,min_samples_split=2,min_samples_leaf=1,max_features='auto',max_depth = 4)\n",
    "rdf.fit(X_train,y_train)\n",
    "print(rdf.score(X_train,y_train))\n",
    "print(rdf.score(X_validation,y_validation))\n",
    "print(rdf.score(X_test,y_test))"
   ]
  },
  {
   "cell_type": "code",
   "execution_count": 10,
   "metadata": {},
   "outputs": [
    {
     "name": "stdout",
     "output_type": "stream",
     "text": [
      "0.9777777777777777\n",
      "0.8823529411764706\n"
     ]
    }
   ],
   "source": [
    "# use oob error instead of validation set and do train/test split\n",
    "X_train = X.iloc[:180]\n",
    "X_test = X.iloc[180:214]\n",
    "y_train = y.iloc[:180]\n",
    "y_test = y.iloc[180:214]\n",
    "rdf = RandomForestClassifier(oob_score=True, n_estimators = 1200,min_samples_split=2,min_samples_leaf=1,max_features='auto',max_depth = 4)\n",
    "rdf.fit(X_train,y_train)\n",
    "print(rdf.score(X_train,y_train))\n",
    "print(rdf.score(X_test,y_test))"
   ]
  },
  {
   "cell_type": "code",
   "execution_count": 11,
   "metadata": {},
   "outputs": [
    {
     "name": "stdout",
     "output_type": "stream",
     "text": [
      "0.98\n",
      "0.921875\n"
     ]
    }
   ],
   "source": [
    "# trying on the 7:3 ratio on train/test split\n",
    "X_train = X.iloc[:150]\n",
    "X_test = X[150:214]\n",
    "y_train = y.iloc[:150]\n",
    "y_test = y.iloc[150:214]\n",
    "rdf = RandomForestClassifier(oob_score=True, n_estimators = 1200,min_samples_split=2,min_samples_leaf=1,max_features='auto',max_depth = 4)\n",
    "rdf.fit(X_train,y_train)\n",
    "print(rdf.score(X_train,y_train))\n",
    "print(rdf.score(X_test,y_test))\n",
    "###"
   ]
  },
  {
   "cell_type": "code",
   "execution_count": 12,
   "metadata": {},
   "outputs": [
    {
     "name": "stdout",
     "output_type": "stream",
     "text": [
      "[[47  0  0  0  0  0  0]\n",
      " [ 0 20  0  0  0  0  0]\n",
      " [ 0  0 17  0  3  0  0]\n",
      " [ 0  0  0 20  0  0  0]\n",
      " [ 0  0  0  0  7  0  0]\n",
      " [ 0  0  0  0  0 20  0]\n",
      " [ 0  0  0  0  0  0 16]]\n",
      "[[13  0  0  0  0  0  0]\n",
      " [ 0 20  0  0  0  0  0]\n",
      " [ 0  0  6  0  0  0  0]\n",
      " [ 0  0  0  8  0  0  0]\n",
      " [ 0  0  2  0  6  0  0]\n",
      " [ 0  0  0  0  0  5  3]\n",
      " [ 0  0  0  0  0  0  1]]\n"
     ]
    }
   ],
   "source": [
    "### Results Analysis\n",
    "from sklearn.metrics import confusion_matrix\n",
    "\n",
    "y_train_pred = rdf.predict(X_train)\n",
    "y_test_pred = rdf.predict(X_test)\n",
    "\n",
    "conf_m_train = confusion_matrix(y_train_pred, y_train)\n",
    "conf_m_test = confusion_matrix(y_test_pred, y_test)\n",
    "\n",
    "print(conf_m_train)\n",
    "print(conf_m_test)\n"
   ]
  },
  {
   "cell_type": "code",
   "execution_count": 13,
   "metadata": {},
   "outputs": [
    {
     "data": {
      "text/plain": [
       "<matplotlib.axes._subplots.AxesSubplot at 0x1a22825b10>"
      ]
     },
     "execution_count": 13,
     "metadata": {},
     "output_type": "execute_result"
    },
    {
     "data": {
      "image/png": "[encoded data removed]",
      "text/plain": [
       "<Figure size 720x504 with 2 Axes>"
      ]
     },
     "metadata": {
      "needs_background": "light"
     },
     "output_type": "display_data"
    }
   ],
   "source": [
    "# plotting results\n",
    "import seaborn as sn\n",
    "import matplotlib.pyplot as plt\n",
    "cfm_train = pd.DataFrame(conf_m_train, index = [i for i in \"1234567\"], columns = [i for i in \"1234567\"])\n",
    "plt.figure(figsize = (10,7))\n",
    "sn.heatmap(cfm_train, annot=True)"
   ]
  },
  {
   "cell_type": "code",
   "execution_count": 14,
   "metadata": {},
   "outputs": [
    {
     "data": {
      "text/plain": [
       "<matplotlib.axes._subplots.AxesSubplot at 0x1a21898cd0>"
      ]
     },
     "execution_count": 14,
     "metadata": {},
     "output_type": "execute_result"
    },
    {
     "data": {
      "image/png": "[encoded data removed]",
      "text/plain": [
       "<Figure size 720x504 with 2 Axes>"
      ]
     },
     "metadata": {
      "needs_background": "light"
     },
     "output_type": "display_data"
    }
   ],
   "source": [
    "cfm_test = pd.DataFrame(conf_m_test, index = [i for i in \"1234567\"], columns = [i for i in \"1234567\"])\n",
    "plt.figure(figsize = (10,7))\n",
    "sn.heatmap(cfm_test, annot=True)\n",
    "###"
   ]
  },
  {
   "cell_type": "code",
   "execution_count": 16,
   "metadata": {},
   "outputs": [
    {
     "data": {
      "text/plain": [
       "['zoo_model.joblib']"
      ]
     },
     "execution_count": 16,
     "metadata": {},
     "output_type": "execute_result"
    }
   ],
   "source": [
    "### saving the model \n",
    "from joblib import dump,load\n",
    "dump(rdf, 'zoo_model.joblib')"
   ]
  },
  {
   "cell_type": "code",
   "execution_count": null,
   "metadata": {},
   "outputs": [],
   "source": []
  }
 ],
 "metadata": {
  "kernelspec": {
   "display_name": "Python 3",
   "language": "python",
   "name": "python3"
  },
  "language_info": {
   "codemirror_mode": {
    "name": "ipython",
    "version": 3
   },
   "file_extension": ".py",
   "mimetype": "text/x-python",
   "name": "python",
   "nbconvert_exporter": "python",
   "pygments_lexer": "ipython3",
   "version": "3.7.6"
  }
 },
 "nbformat": 4,
 "nbformat_minor": 4
}
